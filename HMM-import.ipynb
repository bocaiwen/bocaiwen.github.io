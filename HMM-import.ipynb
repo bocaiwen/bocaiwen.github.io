{
 "cells": [
  {
   "cell_type": "code",
   "execution_count": 17,
   "metadata": {},
   "outputs": [],
   "source": [
    "import numpy as np\n",
    "import scipy as sci"
   ]
  },
  {
   "cell_type": "code",
   "execution_count": 23,
   "metadata": {},
   "outputs": [],
   "source": [
    "from scipy.special import logsumexp"
   ]
  },
  {
   "cell_type": "code",
   "execution_count": 149,
   "metadata": {},
   "outputs": [],
   "source": [
    "import numpy.matlib"
   ]
  },
  {
   "cell_type": "code",
   "execution_count": 13,
   "metadata": {},
   "outputs": [],
   "source": [
    "import matplotlib.pyplot as plt\n",
    "\n",
    "%matplotlib inline\n",
    "plt.rcParams[\"figure.figsize\"] =[12,9]"
   ]
  },
  {
   "cell_type": "code",
   "execution_count": 4,
   "metadata": {},
   "outputs": [],
   "source": [
    "transp = np.array([[0.99, 0.01], [0.02, 0.98]])\n",
    "emissp = np.array([[1/6, 1/6, 1/6, 1/6, 1/6, 1/6], [0.1, 0.1, 0.1, 0.1, 0.1, 0.5]])"
   ]
  },
  {
   "cell_type": "code",
   "execution_count": 5,
   "metadata": {},
   "outputs": [],
   "source": [
    "pi = np.array([0.5, 0.5])"
   ]
  },
  {
   "cell_type": "code",
   "execution_count": 6,
   "metadata": {},
   "outputs": [],
   "source": [
    "def simulate(N):\n",
    "    hs = []\n",
    "    xs = []\n",
    "    ht = np.random.choice([0,1], p=pi)\n",
    "    hs.append(ht)\n",
    "    for _ in range(N-1):\n",
    "        ht = np.random.choice([0, 1],p=transp[ht, :])\n",
    "        hs.append(ht)\n",
    "    for h in hs:\n",
    "        xt = np.random.choice(range(6), p=emissp[h, :])\n",
    "        xs.append(xt)\n",
    "    return hs, xs"
   ]
  },
  {
   "cell_type": "code",
   "execution_count": 7,
   "metadata": {
    "scrolled": true
   },
   "outputs": [],
   "source": [
    "def HMMViterbi(v):\n",
    "    N = len(v)\n",
    "    trace = np.zeros((N, 2))\n",
    "    trace[0, 0] = np.log(pi[0]) + np.log(emissp[0, v[0]])\n",
    "    trace[0, 1] = np.log(pi[1]) + np.log(emissp[1, v[0]])\n",
    "    traj = np.ones((N, 2)) * -1\n",
    "    for i in range(1, N):\n",
    "        s00 = np.log(transp[0, 0]) + np.log(emissp[0, v[i]]) + trace[i-1, 0]\n",
    "        s10 = np.log(transp[1, 0]) + np.log(emissp[0, v[i]]) + trace[i-1, 1]\n",
    "        if s00 > s10:\n",
    "            trace[i, 0] = s00\n",
    "            traj[i, 0] = 0\n",
    "        else:\n",
    "            trace[i, 0] = s10\n",
    "            traj[i, 0] = 1\n",
    "        s01 = np.log(transp[0, 1]) + np.log(emissp[1, v[i]]) + trace[i-1, 0]\n",
    "        s11 = np.log(transp[1, 1]) + np.log(emissp[1, v[i]]) + trace[i-1, 1]\n",
    "        if s01 > s11:\n",
    "            trace[i, 1] = s01\n",
    "            traj[i, 1] = 0\n",
    "        else:\n",
    "            trace[i, 1] = s11\n",
    "            traj[i, 1] = 1\n",
    "    hs = []\n",
    "    last = -1\n",
    "    if trace[N-1, 0] > trace[N-1, 1]:\n",
    "        last = 0\n",
    "    else:\n",
    "        last = 1\n",
    "    hs.append(last)\n",
    "    for i in range(N-1, 0, -1):\n",
    "        #print(\"i = {}, last = {}\".format(i, last))\n",
    "        last = int(traj[i, last])\n",
    "        hs.append(last)\n",
    "    return list(reversed(hs))"
   ]
  },
  {
   "cell_type": "code",
   "execution_count": 11,
   "metadata": {},
   "outputs": [],
   "source": [
    "def HMMViterbi(v):\n",
    "    N = len(v)\n",
    "    trace = np.zeros((N, 2))\n",
    "    trace[0, :] = np.log(pi) + np.log(emissp[:, v[0]])\n",
    "    traj = np.ones((N, 2)) * -1\n",
    "    for i in range(1, N):\n",
    "        #s0 = np.log(transp[:, 0]) + np.log(emissp[0, v[i]]) + trace[i-1, :]\n",
    "        #trace[i, 0] = np.max(s0)\n",
    "        #traj[i, 0] = np.argmax(s0)\n",
    "        #s1 = np.log(transp[:, 1]) + np.log(emissp[1, v[i]]) + trace[i-1, :]\n",
    "        #trace[i, 1] = np.max(s1)\n",
    "        #traj[i, 1] = np.argmax(s1)\n",
    "        s = np.log(transp.T) + np.log(emissp[:, v[i]]) + trace[i-1,:]\n",
    "        trace[i,:] = np.max(s.T, axis=0)\n",
    "        traj[i, :] = np.argmax(s.T, axis=0)\n",
    "    hs = []\n",
    "    last = np.argmax(trace[N-1,:])\n",
    "    hs.append(last)\n",
    "    for i in range(N-1, 0, -1):\n",
    "        last = int(traj[i, last])\n",
    "        hs.append(last)\n",
    "    return list(reversed(hs))"
   ]
  },
  {
   "cell_type": "code",
   "execution_count": 14,
   "metadata": {},
   "outputs": [
    {
     "data": {
      "text/plain": [
       "<Container object of 800 artists>"
      ]
     },
     "execution_count": 14,
     "metadata": {},
     "output_type": "execute_result"
    },
    {
     "data": {
      "image/png": "[encoded data removed]",
      "text/plain": [
       "<matplotlib.figure.Figure at 0x1057faeb8>"
      ]
     },
     "metadata": {},
     "output_type": "display_data"
    }
   ],
   "source": [
    "def viterbiPlot():\n",
    "    hs, vs = simulate(800)\n",
    "    phs = HMMViterbi(vs)\n",
    "\n",
    "    #vs, hs, phs\n",
    "\n",
    "    hscolor = ['green' if h == 0 else 'red' for h in hs]\n",
    "\n",
    "    phscolor = ['green' if h == 0 else 'red' for h in phs]\n",
    "\n",
    "    fig, ax = plt.subplots(3, 1)\n",
    "    ax[0].bar(range(len(hs)), 1, color=hscolor)\n",
    "    ax[1].bar(range(len(hs)), 1, color=phscolor)\n",
    "    ax[2].bar(range(len(hs)), np.array(vs)+1,color='blue')"
   ]
  },
  {
   "cell_type": "code",
   "execution_count": 74,
   "metadata": {},
   "outputs": [],
   "source": [
    "def divide(n, d):\n",
    "    r = np.zeros(n.shape)\n",
    "    for i in range(len(n)):\n",
    "        r[i, :] = n[i, :] / d[i]\n",
    "    return r"
   ]
  },
  {
   "cell_type": "code",
   "execution_count": 77,
   "metadata": {},
   "outputs": [],
   "source": [
    "def condp(pin):\n",
    "    if len(pin.shape) == 1:\n",
    "        return np.divide(pin, np.sum(pin))\n",
    "    p = np.sum(pin, axis=1)\n",
    "    return divide(pin, p)"
   ]
  },
  {
   "cell_type": "code",
   "execution_count": 118,
   "metadata": {},
   "outputs": [],
   "source": [
    "def condexp(logp):\n",
    "    if len(logp.shape) == 1:\n",
    "        maxlogp = np.max(logp)\n",
    "        logp -= maxlogp\n",
    "    else:\n",
    "        maxlogp = np.max(logp, axis=1)\n",
    "        logp = (logp.T - maxlogp).T\n",
    "    return condp(np.exp(logp))"
   ]
  },
  {
   "cell_type": "code",
   "execution_count": 119,
   "metadata": {},
   "outputs": [
    {
     "data": {
      "text/plain": [
       "array([[ 0.33333333,  0.66666667],\n",
       "       [ 0.42857143,  0.57142857],\n",
       "       [ 0.45454545,  0.54545455],\n",
       "       [ 0.09090909,  0.90909091]])"
      ]
     },
     "execution_count": 119,
     "metadata": {},
     "output_type": "execute_result"
    }
   ],
   "source": [
    "condexp(np.log(np.array([[1,2],[3,4],[5,6],[1,10]])))"
   ]
  },
  {
   "cell_type": "code",
   "execution_count": 120,
   "metadata": {},
   "outputs": [
    {
     "data": {
      "text/plain": [
       "array([ 0.33333333,  0.66666667])"
      ]
     },
     "execution_count": 120,
     "metadata": {},
     "output_type": "execute_result"
    }
   ],
   "source": [
    "condexp(np.log(np.array([1,2])))"
   ]
  },
  {
   "cell_type": "code",
   "execution_count": 80,
   "metadata": {},
   "outputs": [],
   "source": [
    "def HMMforward(v, N, K, pi_, emissp_, transp_):\n",
    "    logalpha = np.ones((N, K)) * -np.inf\n",
    "    logalpha[0, :] = np.log(pi_) + np.log(emissp_[:, v[0]])\n",
    "    for i in range(1, N):\n",
    "        logalpha[i, :] = np.log(emissp_[:, v[i]]) + logsumexp(logalpha[i-1, :] + np.log(transp_.T), axis=1)\n",
    "    return logalpha, logsumexp(logalpha[N-1,:])"
   ]
  },
  {
   "cell_type": "code",
   "execution_count": 81,
   "metadata": {},
   "outputs": [],
   "source": [
    "def HMMbackward(v, N, K, emissp_, transp_):\n",
    "    logbeta = np.ones((N, K)) * -np.inf\n",
    "    logbeta[N-1, :] = np.zeros(K)\n",
    "    for i in range(N-2, -1, -1):\n",
    "        logbeta[i, :] = logsumexp(logbeta[i+1, :] + np.log(emissp_[:, v[i+1]]) + np.log(transp_), axis=1)\n",
    "    return logbeta"
   ]
  },
  {
   "cell_type": "code",
   "execution_count": 162,
   "metadata": {},
   "outputs": [],
   "source": [
    "def HMMsmooth(logalpha, logbeta, v, N, K, emissp_, transp_):\n",
    "    r = np.zeros((N, K))\n",
    "    for i in range(N):\n",
    "        r[i, :] = logalpha[i, :] + logbeta[i, :]\n",
    "    r = condexp(r)\n",
    "    A = np.zeros((K, K, N))\n",
    "    for i in range(1, N):\n",
    "        #for k1 in range(K):\n",
    "            #for k2 in range(K):\n",
    "            #    A[k1, k2, i] = logalpha[i-1, k1] + logbeta[i, k2] + np.log(emissp_[k2, v[i]]) + np.log(transp_[k1, k2])\n",
    "        #    A[k1, :, i] = logalpha[i-1, k1] + logbeta[i, :] + np.log(emissp_[:, v[i]]) + np.log(transp_[k1, :])\n",
    "        A[:, :, i] = np.matlib.repmat(logalpha[i-1, :].reshape(-1,1), 1, 2) + logbeta[i, :] + np.log(emissp_[:, v[i]]) + np.log(transp_[:, :])\n",
    "        logmax = np.max(A[:, :, i])\n",
    "        A[:, :, i] -= logmax\n",
    "        A[:, :, i] = np.exp(A[:, :, i])\n",
    "        A[:, :, i] = A[:, :, i] / np.sum(A[:, :, i])\n",
    "    return r, A"
   ]
  },
  {
   "cell_type": "code",
   "execution_count": 163,
   "metadata": {},
   "outputs": [],
   "source": [
    "def HMMem(V, N, K, D, niters):\n",
    "    ph1 = condp(np.random.rand(K)) # pi\n",
    "    #ph1 = pi\n",
    "    phthtp = condp(np.random.rand(K, K)) # transp\n",
    "    #phthtp = condp(np.array([[0.6, 0.4],[0.4, 0.6]])) # transp\n",
    "    #phthtp = transp\n",
    "    pvtht = condp(np.random.rand(K, D)) # emissp\n",
    "    #pvtht = emissp\n",
    "    times = 0\n",
    "    lastllik = -np.inf\n",
    "    for i in range(niters):\n",
    "        a = np.zeros(K)\n",
    "        A = np.zeros((K, K))\n",
    "        B = np.zeros((K, D))\n",
    "        llik = 0\n",
    "        for m in range(len(V)):\n",
    "            v = V[m]\n",
    "            # E-step\n",
    "            logalpha, llik_ = HMMforward(v, N, K, ph1, pvtht, phthtp)\n",
    "            logbeta = HMMbackward(v, N, K, pvtht, phthtp)\n",
    "            #print(\"logalpha: {}\".format(logalpha))\n",
    "            #print(\"logbeta: {}\".format(logbeta))\n",
    "            r, A_ = HMMsmooth(logalpha, logbeta, v, N, K, pvtht, phthtp)\n",
    "            llik += llik_\n",
    "            #print(\"r: {}\".format(r))\n",
    "            #print(\"A_: {}\".format(A_))\n",
    "            # collect\n",
    "            a += r[0, :]\n",
    "            A += np.sum(A_, axis=2)\n",
    "            #print(\"A : {}\".format(A))\n",
    "            for j in range(N):\n",
    "                B[:, v[j]] += r[j, :]\n",
    "        # M-step\n",
    "        ph1 = condp(a)\n",
    "        phthtp = condp(A)\n",
    "        pvtht = condp(B)\n",
    "        llik /= len(V)\n",
    "        #print(\"ph1: {}\".format(ph1))\n",
    "        #print(\"phthtp: {}\".format(phthtp))\n",
    "        #print(\"pvtht: {}\".format(pvtht))\n",
    "        print(\"---- log likelihood: {}\".format(llik))\n",
    "        if llik - lastllik < 0.003:\n",
    "            times += 1\n",
    "        else:\n",
    "            times = 0\n",
    "        if times >= 5:\n",
    "            break\n",
    "        lastllik = llik\n",
    "    return ph1, phthtp, pvtht, llik\n"
   ]
  },
  {
   "cell_type": "code",
   "execution_count": 147,
   "metadata": {},
   "outputs": [],
   "source": [
    "def observes():\n",
    "    M = 100\n",
    "    N = 800\n",
    "    vs = np.zeros((M, N), dtype=int)\n",
    "    for m in range(M):\n",
    "        _, v = simulate(N)\n",
    "        vs[m, :] = np.array(v, dtype=int)"
   ]
  },
  {
   "cell_type": "code",
   "execution_count": 146,
   "metadata": {
    "scrolled": false
   },
   "outputs": [],
   "source": [
    "#HMMem(vs, len(vs), 2, 6, 100)"
   ]
  },
  {
   "cell_type": "code",
   "execution_count": 154,
   "metadata": {},
   "outputs": [
    {
     "data": {
      "text/plain": [
       "array([[1, 1],\n",
       "       [2, 2]])"
      ]
     },
     "execution_count": 154,
     "metadata": {},
     "output_type": "execute_result"
    }
   ],
   "source": [
    "np.matlib.repmat(np.array([[1],[2]]), 1,2)"
   ]
  },
  {
   "cell_type": "code",
   "execution_count": 155,
   "metadata": {},
   "outputs": [],
   "source": [
    "a = np.array([1,2])\n",
    "b = np.array([10, 20])"
   ]
  },
  {
   "cell_type": "code",
   "execution_count": 156,
   "metadata": {},
   "outputs": [
    {
     "data": {
      "text/plain": [
       "array([11, 22])"
      ]
     },
     "execution_count": 156,
     "metadata": {},
     "output_type": "execute_result"
    }
   ],
   "source": [
    "a + b"
   ]
  },
  {
   "cell_type": "code",
   "execution_count": 160,
   "metadata": {},
   "outputs": [
    {
     "data": {
      "text/plain": [
       "array([[1, 1],\n",
       "       [2, 2]])"
      ]
     },
     "execution_count": 160,
     "metadata": {},
     "output_type": "execute_result"
    }
   ],
   "source": [
    "np.matlib.repmat(a.reshape(-1, 1), 1, 2)"
   ]
  },
  {
   "cell_type": "code",
   "execution_count": 157,
   "metadata": {},
   "outputs": [
    {
     "data": {
      "text/plain": [
       "array([[11, 21],\n",
       "       [12, 22]])"
      ]
     },
     "execution_count": 157,
     "metadata": {},
     "output_type": "execute_result"
    }
   ],
   "source": [
    "c = np.matlib.repmat(a.reshape(-1,1), 1, 2) + b\n",
    "c"
   ]
  },
  {
   "cell_type": "code",
   "execution_count": 158,
   "metadata": {},
   "outputs": [
    {
     "data": {
      "text/plain": [
       "array([11, 21])"
      ]
     },
     "execution_count": 158,
     "metadata": {},
     "output_type": "execute_result"
    }
   ],
   "source": [
    "c[0,:]"
   ]
  }
 ],
 "metadata": {
  "kernelspec": {
   "display_name": "Python 3",
   "language": "python",
   "name": "python3"
  },
  "language_info": {
   "codemirror_mode": {
    "name": "ipython",
    "version": 3
   },
   "file_extension": ".py",
   "mimetype": "text/x-python",
   "name": "python",
   "nbconvert_exporter": "python",
   "pygments_lexer": "ipython3",
   "version": "3.6.4"
  }
 },
 "nbformat": 4,
 "nbformat_minor": 2
}
