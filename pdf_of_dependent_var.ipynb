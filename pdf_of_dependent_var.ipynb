{
 "cells": [
  {
   "cell_type": "markdown",
   "metadata": {},
   "source": [
    "# 因变量的概率密度"
   ]
  },
  {
   "cell_type": "markdown",
   "metadata": {},
   "source": [
    "## 导读\n",
    "\n",
    "[Hulu机器学习问题与解答系列地三十讲“常见的采样方法”](https://mp.weixin.qq.com/s?__biz=MzA5NzQyNTcxMA==&mid=2656430899&idx=1&sn=3b2f60df6ec181c12cad53f5eba99dee&chksm=8b004b72bc77c2644696fdfc09e3c4bf5541e4b4dc75e5e834a628fddb49be31c75f598a9c52&scene=38#wechat_redirect)中提到：\n",
    "\n",
    "```\n",
    "很多分布一般不好直接进行采样，此时可以考虑函数变换法。一般地，如果随机变量x和u存在变换关系u＝φ(x)，则它们的概率密度函数有如下关系：p(u)|φ'(x)|＝p(x)。因此，如果从目标分布p(x)中不好采样x，可以构造一个变换u＝φ(x)，使得从变换后的分布p(u)中采样u比较容易，这样可以通过先对u进行采样然后通过反函数x＝φ-1(u)来间接得到x。\n",
    "```"
   ]
  },
  {
   "cell_type": "markdown",
   "metadata": {},
   "source": [
    "其中 $p(u)|φ'(x)|=p(x)$ 这个关系并不能一眼看出，下面简单探讨一下。"
   ]
  },
  {
   "cell_type": "markdown",
   "metadata": {},
   "source": [
    "首先看，对于关系 $y=f(x)$，如果已知 $x$ 的密度函数，如何知道 $y$ 的密度函数？"
   ]
  },
  {
   "cell_type": "markdown",
   "metadata": {},
   "source": [
    "## 例子"
   ]
  },
  {
   "cell_type": "markdown",
   "metadata": {},
   "source": [
    "先从一个例子看起：$f(x)=x^2$，即 $y=x^2$。假设 $x$ 有 1000 个取值，在 $[0,1]$ 上均匀分布，$x$ 和 $y$ 赋值如下："
   ]
  },
  {
   "cell_type": "code",
   "execution_count": 1,
   "metadata": {},
   "outputs": [],
   "source": [
    "x = seq(0.001, 1, 0.001)\n",
    "y = x^2"
   ]
  },
  {
   "cell_type": "markdown",
   "metadata": {},
   "source": [
    "$y$ 的取值范围也是 $[0,1]$。\n",
    "\n",
    "$x$ 和 $y$ 的形态大致是这样：\n",
    "\n",
    "![x_y_density](x_y_density.png)"
   ]
  },
  {
   "cell_type": "markdown",
   "metadata": {},
   "source": [
    "从上图可以看出，$x$ 是均匀分布，$y$ 在靠近 0 的地方更密。\n",
    "\n",
    "先估算一下 $x$ 和 $y$ 在几个点的密度值。"
   ]
  },
  {
   "cell_type": "code",
   "execution_count": 2,
   "metadata": {},
   "outputs": [],
   "source": [
    "# 此处计算的是密度，并不是概率密度\n",
    "density = function (d, window) {\n",
    "    density = c()\n",
    "    points=seq(0.05, 0.95, 0.1)\n",
    "    for (i in points) {\n",
    "        density = append(density, sum(d >= (i - window/2) & d < (i + window/2))/window)\n",
    "    }\n",
    "    return(data.frame(point=points, density=density))\n",
    "}"
   ]
  },
  {
   "cell_type": "code",
   "execution_count": 3,
   "metadata": {},
   "outputs": [
    {
     "data": {
      "text/html": [
       "<table>\n",
       "<thead><tr><th scope=col>point</th><th scope=col>density</th></tr></thead>\n",
       "<tbody>\n",
       "\t<tr><td>0.05</td><td>2250</td></tr>\n",
       "\t<tr><td>0.15</td><td>1250</td></tr>\n",
       "\t<tr><td>0.25</td><td>1000</td></tr>\n",
       "\t<tr><td>0.35</td><td> 850</td></tr>\n",
       "\t<tr><td>0.45</td><td> 750</td></tr>\n",
       "\t<tr><td>0.55</td><td> 700</td></tr>\n",
       "\t<tr><td>0.65</td><td> 650</td></tr>\n",
       "\t<tr><td>0.75</td><td> 550</td></tr>\n",
       "\t<tr><td>0.85</td><td> 550</td></tr>\n",
       "\t<tr><td>0.95</td><td> 500</td></tr>\n",
       "</tbody>\n",
       "</table>\n"
      ],
      "text/latex": [
       "\\begin{tabular}{r|ll}\n",
       " point & density\\\\\n",
       "\\hline\n",
       "\t 0.05 & 2250\\\\\n",
       "\t 0.15 & 1250\\\\\n",
       "\t 0.25 & 1000\\\\\n",
       "\t 0.35 &  850\\\\\n",
       "\t 0.45 &  750\\\\\n",
       "\t 0.55 &  700\\\\\n",
       "\t 0.65 &  650\\\\\n",
       "\t 0.75 &  550\\\\\n",
       "\t 0.85 &  550\\\\\n",
       "\t 0.95 &  500\\\\\n",
       "\\end{tabular}\n"
      ],
      "text/markdown": [
       "\n",
       "point | density | \n",
       "|---|---|---|---|---|---|---|---|---|---|\n",
       "| 0.05 | 2250 | \n",
       "| 0.15 | 1250 | \n",
       "| 0.25 | 1000 | \n",
       "| 0.35 |  850 | \n",
       "| 0.45 |  750 | \n",
       "| 0.55 |  700 | \n",
       "| 0.65 |  650 | \n",
       "| 0.75 |  550 | \n",
       "| 0.85 |  550 | \n",
       "| 0.95 |  500 | \n",
       "\n",
       "\n"
      ],
      "text/plain": [
       "   point density\n",
       "1  0.05  2250   \n",
       "2  0.15  1250   \n",
       "3  0.25  1000   \n",
       "4  0.35   850   \n",
       "5  0.45   750   \n",
       "6  0.55   700   \n",
       "7  0.65   650   \n",
       "8  0.75   550   \n",
       "9  0.85   550   \n",
       "10 0.95   500   "
      ]
     },
     "metadata": {},
     "output_type": "display_data"
    }
   ],
   "source": [
    "density(y, 0.02)"
   ]
  },
  {
   "cell_type": "markdown",
   "metadata": {},
   "source": [
    "可以看出 $y$ 随着 $x$ 远离 0 点而逐渐稀疏。但是 $y$ 理论密度值是多少呢？"
   ]
  },
  {
   "cell_type": "markdown",
   "metadata": {},
   "source": [
    "设 $x$ 的密度函数为 $d(x)$。由于在 $[0,1]$ 的范围内 $x$ 有 1000 个点，且均匀分布，则 $d(x)=\\frac{1000}{1-0}=1000$。\n",
    "\n",
    "$y$ 的密度函数需要根据 $y=x^2$ 这个关系和 $d(x)$ 一起求得。（先看效果，证明在后面）\n",
    "\n",
    "首先找出 $y$ 和 $x$ 的逆运算，即从 $y$ 到 $x$ 的关系：$x=g(y)=y^{\\frac{1}{2}}=\\sqrt{y}$。\n",
    "\n",
    "再求得 $g$ 的导数：$g'(y)=\\frac{1}{2}y^{-\\frac{1}{2}}=\\frac{1}{2}\\sqrt{\\frac{1}{y}}$。\n",
    "\n",
    "$y$ 的密度函数为 $d(y)=g'(y)d(g(y))=g'(y)d(x)=1000*g'(y)=1000*\\frac{1}{2}*\\sqrt{\\frac{1}{y}}$。"
   ]
  },
  {
   "cell_type": "code",
   "execution_count": 4,
   "metadata": {
    "scrolled": true
   },
   "outputs": [
    {
     "data": {
      "text/html": [
       "<table>\n",
       "<thead><tr><th scope=col>point</th><th scope=col>density</th></tr></thead>\n",
       "<tbody>\n",
       "\t<tr><td>0.05     </td><td>2236.0680</td></tr>\n",
       "\t<tr><td>0.15     </td><td>1290.9944</td></tr>\n",
       "\t<tr><td>0.25     </td><td>1000.0000</td></tr>\n",
       "\t<tr><td>0.35     </td><td> 845.1543</td></tr>\n",
       "\t<tr><td>0.45     </td><td> 745.3560</td></tr>\n",
       "\t<tr><td>0.55     </td><td> 674.1999</td></tr>\n",
       "\t<tr><td>0.65     </td><td> 620.1737</td></tr>\n",
       "\t<tr><td>0.75     </td><td> 577.3503</td></tr>\n",
       "\t<tr><td>0.85     </td><td> 542.3261</td></tr>\n",
       "\t<tr><td>0.95     </td><td> 512.9892</td></tr>\n",
       "</tbody>\n",
       "</table>\n"
      ],
      "text/latex": [
       "\\begin{tabular}{r|ll}\n",
       " point & density\\\\\n",
       "\\hline\n",
       "\t 0.05      & 2236.0680\\\\\n",
       "\t 0.15      & 1290.9944\\\\\n",
       "\t 0.25      & 1000.0000\\\\\n",
       "\t 0.35      &  845.1543\\\\\n",
       "\t 0.45      &  745.3560\\\\\n",
       "\t 0.55      &  674.1999\\\\\n",
       "\t 0.65      &  620.1737\\\\\n",
       "\t 0.75      &  577.3503\\\\\n",
       "\t 0.85      &  542.3261\\\\\n",
       "\t 0.95      &  512.9892\\\\\n",
       "\\end{tabular}\n"
      ],
      "text/markdown": [
       "\n",
       "point | density | \n",
       "|---|---|---|---|---|---|---|---|---|---|\n",
       "| 0.05      | 2236.0680 | \n",
       "| 0.15      | 1290.9944 | \n",
       "| 0.25      | 1000.0000 | \n",
       "| 0.35      |  845.1543 | \n",
       "| 0.45      |  745.3560 | \n",
       "| 0.55      |  674.1999 | \n",
       "| 0.65      |  620.1737 | \n",
       "| 0.75      |  577.3503 | \n",
       "| 0.85      |  542.3261 | \n",
       "| 0.95      |  512.9892 | \n",
       "\n",
       "\n"
      ],
      "text/plain": [
       "   point density  \n",
       "1  0.05  2236.0680\n",
       "2  0.15  1290.9944\n",
       "3  0.25  1000.0000\n",
       "4  0.35   845.1543\n",
       "5  0.45   745.3560\n",
       "6  0.55   674.1999\n",
       "7  0.65   620.1737\n",
       "8  0.75   577.3503\n",
       "9  0.85   542.3261\n",
       "10 0.95   512.9892"
      ]
     },
     "metadata": {},
     "output_type": "display_data"
    }
   ],
   "source": [
    "dy = c()\n",
    "for (y_ in seq(0.05,0.95,0.1)) {\n",
    "    dy = append(dy, 1000 * 0.5 * sqrt(1/y_))\n",
    "}\n",
    "data.frame(point=seq(0.05,0.95,0.1), density=dy)"
   ]
  },
  {
   "cell_type": "markdown",
   "metadata": {},
   "source": [
    "对比上面用离散数据得出的结果，趋势基本吻合。"
   ]
  },
  {
   "cell_type": "markdown",
   "metadata": {},
   "source": [
    "## 证明"
   ]
  },
  {
   "cell_type": "markdown",
   "metadata": {},
   "source": [
    "这里要证明的是，已知关系 $y=f(x)$ 和 $x$ 的密度函数 $d_x(x)$，则 $y$ 的密度函数是 $d_y(y)=(f^{-1}(y))'d_x(f^{-1}(y))$。\n",
    "\n",
    "此处从密度函数 $d(x)$ 转向概率密度 $p(x)$，它们的关系是 $p(x)=\\frac{d(x)}{\\int_{-\\infty}^{\\infty}{d(x)}dx}=\\frac{d(x)}{Z}$。其中分母 $Z$ 是定积分，是一个常数，不随 $x$ 而变化。\n",
    "\n",
    "虽然 $d_y(y) \\neq d_x(x)$，但是 $Z_y=\\int{d_y(y)}dy=\\int{d_x(x)}dx=Z_x$，因为 $Z_x$ $Z_y$ 代表的是 $x$ 和 $y$ 的总量。\n",
    "\n",
    "如果 $p_y(y)=(f^{-1}(y))'p_x(f^{-1}(y))$ 成立，则上面 $d_y(y)=(f^{-1}(y))'d_x(f^{-1}(y))$ 也成立，因为：\n",
    "\n",
    "\\begin{align}\n",
    "p_y(y)=\\frac{d_y(y)}{Z_y}=\\frac{(f^{-1}(y))'d_x(f^{-1}(y))}{Z_x}\n",
    "\\end{align}"
   ]
  },
  {
   "cell_type": "markdown",
   "metadata": {},
   "source": [
    "下面证明 $p_y(y)=(f^{-1}(y))'p_x(f^{-1}(y))$（参考 [spaceisdarkgreen 在 stackexchange 的回答](https://math.stackexchange.com/questions/2101317/probability-density-function-of-dependent-random-variable)）。\n",
    "\n",
    "设 $F_x(x) = \\int_{-\\infty}^{x}p_x(x)dx = P(X \\leq x)$ （累积分布函数）。\n",
    "\n",
    "则，$F_y(y)=P(Y \\leq y)=P(f(X) \\leq y)=P(X \\leq f^{-1}(y))=F_x(f^{-1}(y))$ 。\n",
    "\n",
    "然而，$F_y(y) = \\int_{-\\infty}^{y}p_y(y)dy$，所以 $p_y(y)=F_y'(y)$。\n",
    "\n",
    "最后 $p_y(y) = \\frac{d}{d y} F_y(y) = \\frac{d}{d y} F_x(f^{-1}(y)) = (f^{-1}(y))'F_x'(f^{-1}(y)) = (f^{-1}(y))'p_x(f^{-1}(y))$ 。"
   ]
  },
  {
   "cell_type": "markdown",
   "metadata": {},
   "source": [
    "回到导读中提到的关系 $p(u)|φ'(x)|=p(x)$，抛开绝对值符号（为了保证概率非负），可以写成 $p(u)\\frac{dy}{dx}=p(x)$。\n",
    "\n",
    "从上面的证明可以得出 $p(u) = (f^{-1}(u))'p(f^{-1}(u)) = \\frac{dx}{du}p(x)$ 。\n",
    "\n",
    "把导数移到左边，得出 $p(u)\\frac{du}{dx} = p(u)φ'(x) = p(x)$。完毕。"
   ]
  }
 ],
 "metadata": {
  "kernelspec": {
   "display_name": "R",
   "language": "R",
   "name": "ir"
  },
  "language_info": {
   "codemirror_mode": "r",
   "file_extension": ".r",
   "mimetype": "text/x-r-source",
   "name": "R",
   "pygments_lexer": "r",
   "version": "3.4.0"
  }
 },
 "nbformat": 4,
 "nbformat_minor": 2
}
